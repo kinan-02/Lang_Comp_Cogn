{
 "cells": [
  {
   "cell_type": "code",
   "id": "initial_id",
   "metadata": {
    "collapsed": true
   },
   "source": [
    "import numpy as np\n",
    "import pandas as pd\n",
    "import matplotlib.pyplot as plt\n",
    "import seaborn as sns\n",
    "import statsmodels.api as sm"
   ],
   "outputs": [],
   "execution_count": null
  },
  {
   "metadata": {},
   "cell_type": "markdown",
   "source": "# General Additive Model",
   "id": "bbf792140eb8550"
  },
  {
   "metadata": {},
   "cell_type": "markdown",
   "source": "## Helper Functions",
   "id": "3a5c2cc6c4754d2e"
  },
  {
   "metadata": {},
   "cell_type": "code",
   "source": "df = pd.read_csv('data/ia_Paragraph_with_pythia_surprisal.csv')",
   "id": "b3f28eb3ce674361",
   "outputs": [],
   "execution_count": null
  },
  {
   "metadata": {},
   "cell_type": "code",
   "source": [
    "def get_lower_upper_bounds(df, column):\n",
    "    sns.boxplot(x=df[column])\n",
    "    plt.title(\"Boxplot of Reading Time\")\n",
    "    plt.show()\n",
    "\n",
    "\n",
    "    Q1 = df[column].quantile(0.25)\n",
    "    Q3 = df[column].quantile(0.75)\n",
    "    IQR = Q3 - Q1\n",
    "    lower_bound = Q1 - 1.5 * IQR\n",
    "    lower_bound = lower_bound if lower_bound > 0 else 0\n",
    "    upper_bound = Q3 + 1.5 * IQR\n",
    "    print(f\"lower_bound: {lower_bound}\")\n",
    "    print(f\"upper_bound: {upper_bound}\")\n",
    "    return lower_bound, upper_bound"
   ],
   "id": "2a90d70d34506f94",
   "outputs": [],
   "execution_count": null
  },
  {
   "metadata": {},
   "cell_type": "code",
   "source": [
    "def GAM_summary(df, column):\n",
    "    tmp = df[(df[column] >= lower_bound*2) & (df[column] <= upper_bound*2)]\n",
    "    tmp = tmp[~tmp['pythia_surprisal'].isnull()]\n",
    "\n",
    "    X = tmp[['pythia_surprisal', 'word_length', 'wordfreq_frequency']]\n",
    "    y = tmp[column]\n",
    "\n",
    "    X = sm.add_constant(X)\n",
    "\n",
    "    lin_model = sm.OLS(y, X).fit()\n",
    "\n",
    "    # Extract the coefficient, t-score, p-value, and R² score\n",
    "    coefficients = lin_model.params\n",
    "    t_scores = lin_model.tvalues\n",
    "    p_values = lin_model.pvalues\n",
    "    r2 = lin_model.rsquared\n",
    "\n",
    "    print(lin_model.summary())\n",
    "    print(\"\\nCoefficients:\")\n",
    "    print(f\"Pythia Surprisal: {coefficients['pythia_surprisal']:.4f}, T-score: {t_scores['pythia_surprisal']:.4f}, P-value: {p_values['pythia_surprisal']:.4f}\")\n",
    "    print(f\"word_length: {coefficients['word_length']:.4f}, T-score: {t_scores['word_length']:.4f}, P-value: {p_values['word_length']:.4f}\")\n",
    "    print(f\"log_frequency: {coefficients['wordfreq_frequency']:.4f}, T-score: {t_scores['wordfreq_frequency']:.4f}, P-value: {p_values['wordfreq_frequency']:.4f}\")\n",
    "    print(f\"R² score: {r2:.4f}\")\n",
    "    return tmp"
   ],
   "id": "abb68600562055e6",
   "outputs": [],
   "execution_count": null
  },
  {
   "metadata": {},
   "cell_type": "code",
   "source": [
    "def make_spillover_column(tmp, column):\n",
    "    tmp['pythia_word_probability'] = tmp['pythia_surprisal'].apply(\n",
    "        lambda s: 2 ** (-s) if pd.notnull(s) else None\n",
    "    )\n",
    "\n",
    "    spillovers = []\n",
    "    for idx in range(len(tmp)):\n",
    "        if idx == len(tmp) - 1:\n",
    "            spillovers.append(None)\n",
    "            continue\n",
    "        row = tmp.iloc[idx]\n",
    "        next_row = tmp.iloc[idx + 1]\n",
    "        if row['paragraph'] == next_row['paragraph']:\n",
    "            spillovers.append(next_row[column])\n",
    "        else:\n",
    "            spillovers.append(None)\n",
    "    tmp['spillover_rt'] = spillovers"
   ],
   "id": "44040ef05ab1e351",
   "outputs": [],
   "execution_count": null
  },
  {
   "metadata": {},
   "cell_type": "code",
   "source": [
    "def GAM_summary_current_word(tmp, column):\n",
    "    tmp = tmp.dropna(subset=['pythia_word_probability', column, 'word_length', 'wordfreq_frequency'])\n",
    "\n",
    "    X = tmp[['pythia_word_probability', 'word_length', 'wordfreq_frequency']]\n",
    "    y = tmp[column]\n",
    "\n",
    "    X = sm.add_constant(X)\n",
    "\n",
    "    lin_model = sm.OLS(y, X).fit()\n",
    "\n",
    "    # Extract the coefficient, t-score, p-value, and R² score\n",
    "    coefficients = lin_model.params\n",
    "    t_scores = lin_model.tvalues\n",
    "    p_values = lin_model.pvalues\n",
    "    r2 = lin_model.rsquared\n",
    "\n",
    "    print(lin_model.summary())\n",
    "    print(\"\\nCoefficients:\")\n",
    "    print(f\"Pythia word probability: {coefficients['pythia_word_probability']:.4f}, T-score: {t_scores['pythia_word_probability']:.4f}, P-value: {p_values['pythia_word_probability']:.4f}\")\n",
    "    print(f\"word_length: {coefficients['word_length']:.4f}, T-score: {t_scores['word_length']:.4f}, P-value: {p_values['word_length']:.4f}\")\n",
    "    print(f\"log_frequency: {coefficients['wordfreq_frequency']:.4f}, T-score: {t_scores['wordfreq_frequency']:.4f}, P-value: {p_values['wordfreq_frequency']:.4f}\")\n",
    "    print(f\"R² score: {r2:.4f}\")"
   ],
   "id": "9a1efbe980792691",
   "outputs": [],
   "execution_count": null
  },
  {
   "metadata": {},
   "cell_type": "code",
   "source": [
    "def GAM_summary_spillover(tmp):\n",
    "    tmp = tmp.dropna(subset=['pythia_word_probability', 'spillover_rt', 'word_length', 'wordfreq_frequency'])\n",
    "\n",
    "    X = tmp[['pythia_word_probability', 'word_length', 'wordfreq_frequency']]\n",
    "    y = tmp['spillover_rt']\n",
    "\n",
    "    X = sm.add_constant(X)\n",
    "\n",
    "    lin_model = sm.OLS(y, X).fit()\n",
    "\n",
    "    # Extract the coefficient, t-score, p-value, and R² score\n",
    "    coefficients = lin_model.params\n",
    "    t_scores = lin_model.tvalues\n",
    "    p_values = lin_model.pvalues\n",
    "    r2 = lin_model.rsquared\n",
    "\n",
    "    print(lin_model.summary())\n",
    "    print(\"\\nCoefficients:\")\n",
    "    print(f\"Pythia word probability: {coefficients['pythia_word_probability']:.4f}, T-score: {t_scores['pythia_word_probability']:.4f}, P-value: {p_values['pythia_word_probability']:.4f}\")\n",
    "    print(f\"word_length: {coefficients['word_length']:.4f}, T-score: {t_scores['word_length']:.4f}, P-value: {p_values['word_length']:.4f}\")\n",
    "    print(f\"log_frequency: {coefficients['wordfreq_frequency']:.4f}, T-score: {t_scores['wordfreq_frequency']:.4f}, P-value: {p_values['wordfreq_frequency']:.4f}\")\n",
    "    print(f\"R² score: {r2:.4f}\")"
   ],
   "id": "e6f045f5d93a3c3b",
   "outputs": [],
   "execution_count": null
  },
  {
   "metadata": {},
   "cell_type": "markdown",
   "source": "## Total Fixation Time (IA_DWELL_TIME)",
   "id": "b9014bdc4827861f"
  },
  {
   "metadata": {
    "ExecuteTime": {
     "end_time": "2025-06-10T15:29:48.967994Z",
     "start_time": "2025-06-10T15:29:48.442238Z"
    }
   },
   "cell_type": "code",
   "source": "lower_bound, upper_bound = get_lower_upper_bounds(df, 'IA_DWELL_TIME')",
   "id": "991c5d86a328cfab",
   "outputs": [
    {
     "data": {
      "text/plain": [
       "<Figure size 640x480 with 1 Axes>"
      ],
      "image/png": "[encoded data removed]"
     },
     "metadata": {},
     "output_type": "display_data"
    },
    {
     "name": "stdout",
     "output_type": "stream",
     "text": [
      "lower_bound: 0\n",
      "upper_bound: 717.5\n"
     ]
    }
   ],
   "execution_count": 16
  },
  {
   "metadata": {
    "ExecuteTime": {
     "end_time": "2025-06-10T15:29:50.026199Z",
     "start_time": "2025-06-10T15:29:49.772145Z"
    }
   },
   "cell_type": "code",
   "source": "tmp = GAM_summary(df, 'IA_DWELL_TIME')",
   "id": "27dd972d38a3ef95",
   "outputs": [
    {
     "name": "stdout",
     "output_type": "stream",
     "text": [
      "                            OLS Regression Results                            \n",
      "==============================================================================\n",
      "Dep. Variable:          IA_DWELL_TIME   R-squared:                       0.134\n",
      "Model:                            OLS   Adj. R-squared:                  0.134\n",
      "Method:                 Least Squares   F-statistic:                 5.605e+04\n",
      "Date:                Tue, 10 Jun 2025   Prob (F-statistic):               0.00\n",
      "Time:                        18:29:50   Log-Likelihood:            -7.3626e+06\n",
      "No. Observations:             1090031   AIC:                         1.473e+07\n",
      "Df Residuals:                 1090027   BIC:                         1.473e+07\n",
      "Df Model:                           3                                         \n",
      "Covariance Type:            nonrobust                                         \n",
      "======================================================================================\n",
      "                         coef    std err          t      P>|t|      [0.025      0.975]\n",
      "--------------------------------------------------------------------------------------\n",
      "const                 17.3495      0.543     31.936      0.000      16.285      18.414\n",
      "pythia_surprisal       1.0890      0.038     28.844      0.000       1.015       1.163\n",
      "word_length           24.2349      0.097    250.223      0.000      24.045      24.425\n",
      "wordfreq_frequency     4.9194      0.048    103.527      0.000       4.826       5.013\n",
      "==============================================================================\n",
      "Omnibus:                   355104.514   Durbin-Watson:                   1.609\n",
      "Prob(Omnibus):                  0.000   Jarque-Bera (JB):          1242716.795\n",
      "Skew:                           1.642   Prob(JB):                         0.00\n",
      "Kurtosis:                       7.072   Cond. No.                         41.2\n",
      "==============================================================================\n",
      "\n",
      "Notes:\n",
      "[1] Standard Errors assume that the covariance matrix of the errors is correctly specified.\n",
      "\n",
      "Coefficients:\n",
      "Pythia Surprisal: 1.0890, T-score: 28.8439, P-value: 0.0000\n",
      "word_length: 24.2349, T-score: 250.2228, P-value: 0.0000\n",
      "log_frequency: 4.9194, T-score: 103.5266, P-value: 0.0000\n",
      "R² score: 0.1337\n"
     ]
    }
   ],
   "execution_count": 17
  },
  {
   "metadata": {},
   "cell_type": "markdown",
   "source": "### \"SpillOver\" effect",
   "id": "dd08e687a886a72e"
  },
  {
   "metadata": {
    "ExecuteTime": {
     "end_time": "2025-06-10T15:30:17.941308Z",
     "start_time": "2025-06-10T15:29:52.378207Z"
    }
   },
   "cell_type": "code",
   "source": "make_spillover_column(tmp, 'IA_DWELL_TIME')",
   "id": "5acc175d2589531d",
   "outputs": [],
   "execution_count": 18
  },
  {
   "metadata": {},
   "cell_type": "markdown",
   "source": "#### Current Word",
   "id": "d17773df1da8009e"
  },
  {
   "metadata": {
    "ExecuteTime": {
     "end_time": "2025-06-10T15:30:18.083594Z",
     "start_time": "2025-06-10T15:30:17.944303Z"
    }
   },
   "cell_type": "code",
   "source": "GAM_summary_current_word(tmp, 'IA_DWELL_TIME')",
   "id": "4c309fb8c691d111",
   "outputs": [
    {
     "name": "stdout",
     "output_type": "stream",
     "text": [
      "                            OLS Regression Results                            \n",
      "==============================================================================\n",
      "Dep. Variable:          IA_DWELL_TIME   R-squared:                       0.133\n",
      "Model:                            OLS   Adj. R-squared:                  0.133\n",
      "Method:                 Least Squares   F-statistic:                 5.585e+04\n",
      "Date:                Tue, 10 Jun 2025   Prob (F-statistic):               0.00\n",
      "Time:                        18:30:18   Log-Likelihood:            -7.3629e+06\n",
      "No. Observations:             1090031   AIC:                         1.473e+07\n",
      "Df Residuals:                 1090027   BIC:                         1.473e+07\n",
      "Df Model:                           3                                         \n",
      "Covariance Type:            nonrobust                                         \n",
      "===========================================================================================\n",
      "                              coef    std err          t      P>|t|      [0.025      0.975]\n",
      "-------------------------------------------------------------------------------------------\n",
      "const                      26.6045      0.501     53.145      0.000      25.623      27.586\n",
      "pythia_word_probability   -15.7424      0.909    -17.320      0.000     -17.524     -13.961\n",
      "word_length                24.2155      0.097    249.957      0.000      24.026      24.405\n",
      "wordfreq_frequency          4.9480      0.048    104.138      0.000       4.855       5.041\n",
      "==============================================================================\n",
      "Omnibus:                   355507.531   Durbin-Watson:                   1.607\n",
      "Prob(Omnibus):                  0.000   Jarque-Bera (JB):          1245347.380\n",
      "Skew:                           1.643   Prob(JB):                         0.00\n",
      "Kurtosis:                       7.077   Cond. No.                         61.7\n",
      "==============================================================================\n",
      "\n",
      "Notes:\n",
      "[1] Standard Errors assume that the covariance matrix of the errors is correctly specified.\n",
      "\n",
      "Coefficients:\n",
      "Pythia word probability: -15.7424, T-score: -17.3205, P-value: 0.0000\n",
      "word_length: 24.2155, T-score: 249.9571, P-value: 0.0000\n",
      "log_frequency: 4.9480, T-score: 104.1378, P-value: 0.0000\n",
      "R² score: 0.1332\n"
     ]
    }
   ],
   "execution_count": 19
  },
  {
   "metadata": {},
   "cell_type": "markdown",
   "source": "#### Next Word",
   "id": "109214f43cda70c1"
  },
  {
   "metadata": {
    "ExecuteTime": {
     "end_time": "2025-06-10T15:30:18.319401Z",
     "start_time": "2025-06-10T15:30:18.158547Z"
    }
   },
   "cell_type": "code",
   "source": "GAM_summary_spillover(tmp)",
   "id": "c581997dd0b79a9",
   "outputs": [
    {
     "name": "stdout",
     "output_type": "stream",
     "text": [
      "                            OLS Regression Results                            \n",
      "==============================================================================\n",
      "Dep. Variable:           spillover_rt   R-squared:                       0.007\n",
      "Model:                            OLS   Adj. R-squared:                  0.007\n",
      "Method:                 Least Squares   F-statistic:                     2397.\n",
      "Date:                Tue, 10 Jun 2025   Prob (F-statistic):               0.00\n",
      "Time:                        18:30:18   Log-Likelihood:            -7.3671e+06\n",
      "No. Observations:             1079953   AIC:                         1.473e+07\n",
      "Df Residuals:                 1079949   BIC:                         1.473e+07\n",
      "Df Model:                           3                                         \n",
      "Covariance Type:            nonrobust                                         \n",
      "===========================================================================================\n",
      "                              coef    std err          t      P>|t|      [0.025      0.975]\n",
      "-------------------------------------------------------------------------------------------\n",
      "const                     233.2339      0.538    433.807      0.000     232.180     234.288\n",
      "pythia_word_probability   -11.7306      0.982    -11.949      0.000     -13.655      -9.806\n",
      "word_length                -5.7287      0.104    -55.060      0.000      -5.933      -5.525\n",
      "wordfreq_frequency         -0.8744      0.051    -17.115      0.000      -0.975      -0.774\n",
      "==============================================================================\n",
      "Omnibus:                   361021.663   Durbin-Watson:                   1.667\n",
      "Prob(Omnibus):                  0.000   Jarque-Bera (JB):          1214342.352\n",
      "Skew:                           1.708   Prob(JB):                         0.00\n",
      "Kurtosis:                       6.914   Cond. No.                         62.0\n",
      "==============================================================================\n",
      "\n",
      "Notes:\n",
      "[1] Standard Errors assume that the covariance matrix of the errors is correctly specified.\n",
      "\n",
      "Coefficients:\n",
      "Pythia word probability: -11.7306, T-score: -11.9486, P-value: 0.0000\n",
      "word_length: -5.7287, T-score: -55.0603, P-value: 0.0000\n",
      "log_frequency: -0.8744, T-score: -17.1149, P-value: 0.0000\n",
      "R² score: 0.0066\n"
     ]
    }
   ],
   "execution_count": 20
  },
  {
   "metadata": {},
   "cell_type": "markdown",
   "source": "## Gaze Duration (IA_FIRST_RUN_DWELL_TIME)",
   "id": "814bda9602684eb4"
  },
  {
   "metadata": {},
   "cell_type": "code",
   "source": [
    "gaze_duration_df = df[df['IA_FIRST_FIX_PROGRESSIVE'] == '1']\n",
    "gaze_duration_df['IA_FIRST_RUN_DWELL_TIME'] = pd.to_numeric(gaze_duration_df['IA_FIRST_RUN_DWELL_TIME'], errors='coerce')"
   ],
   "id": "f3f7f95d8f27e99a",
   "outputs": [],
   "execution_count": null
  },
  {
   "metadata": {
    "ExecuteTime": {
     "end_time": "2025-06-10T15:30:34.215236Z",
     "start_time": "2025-06-10T15:30:33.934319Z"
    }
   },
   "cell_type": "code",
   "source": "lower_bound, upper_bound = get_lower_upper_bounds(gaze_duration_df, 'IA_FIRST_RUN_DWELL_TIME')",
   "id": "d4df3a853b350c3a",
   "outputs": [
    {
     "data": {
      "text/plain": [
       "<Figure size 640x480 with 1 Axes>"
      ],
      "image/png": "[encoded data removed]"
     },
     "metadata": {},
     "output_type": "display_data"
    },
    {
     "name": "stdout",
     "output_type": "stream",
     "text": [
      "lower_bound: 0\n",
      "upper_bound: 423.5\n"
     ]
    }
   ],
   "execution_count": 22
  },
  {
   "metadata": {
    "ExecuteTime": {
     "end_time": "2025-06-10T15:31:25.634988Z",
     "start_time": "2025-06-10T15:31:25.506654Z"
    }
   },
   "cell_type": "code",
   "source": "tmp = GAM_summary(gaze_duration_df, 'IA_FIRST_RUN_DWELL_TIME')",
   "id": "e488bd0bc091617",
   "outputs": [
    {
     "name": "stdout",
     "output_type": "stream",
     "text": [
      "                               OLS Regression Results                              \n",
      "===================================================================================\n",
      "Dep. Variable:     IA_FIRST_RUN_DWELL_TIME   R-squared:                       0.032\n",
      "Model:                                 OLS   Adj. R-squared:                  0.032\n",
      "Method:                      Least Squares   F-statistic:                     5389.\n",
      "Date:                     Tue, 10 Jun 2025   Prob (F-statistic):               0.00\n",
      "Time:                             18:31:25   Log-Likelihood:            -2.9895e+06\n",
      "No. Observations:                   492000   AIC:                         5.979e+06\n",
      "Df Residuals:                       491996   BIC:                         5.979e+06\n",
      "Df Model:                                3                                         \n",
      "Covariance Type:                 nonrobust                                         \n",
      "======================================================================================\n",
      "                         coef    std err          t      P>|t|      [0.025      0.975]\n",
      "--------------------------------------------------------------------------------------\n",
      "const                169.4384      0.450    376.817      0.000     168.557     170.320\n",
      "pythia_surprisal       0.1588      0.028      5.657      0.000       0.104       0.214\n",
      "word_length            4.3409      0.069     62.837      0.000       4.205       4.476\n",
      "wordfreq_frequency     1.8325      0.037     50.201      0.000       1.761       1.904\n",
      "==============================================================================\n",
      "Omnibus:                   164619.600   Durbin-Watson:                   1.722\n",
      "Prob(Omnibus):                  0.000   Jarque-Bera (JB):           620216.176\n",
      "Skew:                           1.658   Prob(JB):                         0.00\n",
      "Kurtosis:                       7.389   Cond. No.                         49.3\n",
      "==============================================================================\n",
      "\n",
      "Notes:\n",
      "[1] Standard Errors assume that the covariance matrix of the errors is correctly specified.\n",
      "\n",
      "Coefficients:\n",
      "Pythia Surprisal: 0.1588, T-score: 5.6573, P-value: 0.0000\n",
      "word_length: 4.3409, T-score: 62.8372, P-value: 0.0000\n",
      "log_frequency: 1.8325, T-score: 50.2009, P-value: 0.0000\n",
      "R² score: 0.0318\n"
     ]
    }
   ],
   "execution_count": 23
  },
  {
   "metadata": {},
   "cell_type": "markdown",
   "source": "### \"SpillOver\" effect",
   "id": "2dfa251e1b3980c0"
  },
  {
   "metadata": {
    "ExecuteTime": {
     "end_time": "2025-06-10T15:31:43.090878Z",
     "start_time": "2025-06-10T15:31:31.524442Z"
    }
   },
   "cell_type": "code",
   "source": "make_spillover_column(tmp, 'IA_FIRST_RUN_DWELL_TIME')",
   "id": "906afb9b4a66755a",
   "outputs": [],
   "execution_count": 24
  },
  {
   "metadata": {},
   "cell_type": "markdown",
   "source": "#### Current Word",
   "id": "a2d8c2c0feeddba3"
  },
  {
   "metadata": {
    "ExecuteTime": {
     "end_time": "2025-06-10T15:32:10.684476Z",
     "start_time": "2025-06-10T15:32:10.601695Z"
    }
   },
   "cell_type": "code",
   "source": "GAM_summary_current_word(tmp, 'IA_FIRST_RUN_DWELL_TIME')",
   "id": "2b30bdad2dd67114",
   "outputs": [
    {
     "name": "stdout",
     "output_type": "stream",
     "text": [
      "                               OLS Regression Results                              \n",
      "===================================================================================\n",
      "Dep. Variable:     IA_FIRST_RUN_DWELL_TIME   R-squared:                       0.032\n",
      "Model:                                 OLS   Adj. R-squared:                  0.032\n",
      "Method:                      Least Squares   F-statistic:                     5380.\n",
      "Date:                     Tue, 10 Jun 2025   Prob (F-statistic):               0.00\n",
      "Time:                             18:32:10   Log-Likelihood:            -2.9895e+06\n",
      "No. Observations:                   492000   AIC:                         5.979e+06\n",
      "Df Residuals:                       491996   BIC:                         5.979e+06\n",
      "Df Model:                                3                                         \n",
      "Covariance Type:                 nonrobust                                         \n",
      "===========================================================================================\n",
      "                              coef    std err          t      P>|t|      [0.025      0.975]\n",
      "-------------------------------------------------------------------------------------------\n",
      "const                     170.7248      0.423    403.481      0.000     169.895     171.554\n",
      "pythia_word_probability    -1.9865      0.700     -2.837      0.005      -3.359      -0.614\n",
      "word_length                 4.3350      0.069     62.752      0.000       4.200       4.470\n",
      "wordfreq_frequency          1.8404      0.036     50.465      0.000       1.769       1.912\n",
      "==============================================================================\n",
      "Omnibus:                   164643.489   Durbin-Watson:                   1.722\n",
      "Prob(Omnibus):                  0.000   Jarque-Bera (JB):           620382.979\n",
      "Skew:                           1.658   Prob(JB):                         0.00\n",
      "Kurtosis:                       7.389   Cond. No.                         70.0\n",
      "==============================================================================\n",
      "\n",
      "Notes:\n",
      "[1] Standard Errors assume that the covariance matrix of the errors is correctly specified.\n",
      "\n",
      "Coefficients:\n",
      "Pythia word probability: -1.9865, T-score: -2.8367, P-value: 0.0046\n",
      "word_length: 4.3350, T-score: 62.7518, P-value: 0.0000\n",
      "log_frequency: 1.8404, T-score: 50.4650, P-value: 0.0000\n",
      "R² score: 0.0318\n"
     ]
    }
   ],
   "execution_count": 25
  },
  {
   "metadata": {},
   "cell_type": "markdown",
   "source": "#### Next Word",
   "id": "ea716620bec57913"
  },
  {
   "metadata": {
    "ExecuteTime": {
     "end_time": "2025-06-10T15:32:13.006016Z",
     "start_time": "2025-06-10T15:32:12.921053Z"
    }
   },
   "cell_type": "code",
   "source": "GAM_summary_spillover(tmp)",
   "id": "58e50048b3f22b68",
   "outputs": [
    {
     "name": "stdout",
     "output_type": "stream",
     "text": [
      "                            OLS Regression Results                            \n",
      "==============================================================================\n",
      "Dep. Variable:           spillover_rt   R-squared:                       0.004\n",
      "Model:                            OLS   Adj. R-squared:                  0.004\n",
      "Method:                 Least Squares   F-statistic:                     625.0\n",
      "Date:                Tue, 10 Jun 2025   Prob (F-statistic):               0.00\n",
      "Time:                        18:32:12   Log-Likelihood:            -2.9351e+06\n",
      "No. Observations:              481922   AIC:                         5.870e+06\n",
      "Df Residuals:                  481918   BIC:                         5.870e+06\n",
      "Df Model:                           3                                         \n",
      "Covariance Type:            nonrobust                                         \n",
      "===========================================================================================\n",
      "                              coef    std err          t      P>|t|      [0.025      0.975]\n",
      "-------------------------------------------------------------------------------------------\n",
      "const                     209.2672      0.434    482.486      0.000     208.417     210.117\n",
      "pythia_word_probability   -22.5514      0.724    -31.129      0.000     -23.971     -21.131\n",
      "word_length                 0.6394      0.071      9.032      0.000       0.501       0.778\n",
      "wordfreq_frequency          0.6246      0.037     16.689      0.000       0.551       0.698\n",
      "==============================================================================\n",
      "Omnibus:                   167499.224   Durbin-Watson:                   1.733\n",
      "Prob(Omnibus):                  0.000   Jarque-Bera (JB):           644592.287\n",
      "Skew:                           1.720   Prob(JB):                         0.00\n",
      "Kurtosis:                       7.501   Cond. No.                         70.7\n",
      "==============================================================================\n",
      "\n",
      "Notes:\n",
      "[1] Standard Errors assume that the covariance matrix of the errors is correctly specified.\n",
      "\n",
      "Coefficients:\n",
      "Pythia word probability: -22.5514, T-score: -31.1289, P-value: 0.0000\n",
      "word_length: 0.6394, T-score: 9.0317, P-value: 0.0000\n",
      "log_frequency: 0.6246, T-score: 16.6891, P-value: 0.0000\n",
      "R² score: 0.0039\n"
     ]
    }
   ],
   "execution_count": 26
  },
  {
   "metadata": {},
   "cell_type": "markdown",
   "source": "## First Fixation Duration (IA_FIRST_FIXATION_DURATION)",
   "id": "225109b72a0dd85d"
  },
  {
   "metadata": {},
   "cell_type": "code",
   "source": [
    "ff_duration_df = df[df['IA_FIRST_FIX_PROGRESSIVE'] == '1']\n",
    "ff_duration_df['IA_FIRST_FIXATION_DURATION'] = pd.to_numeric(ff_duration_df['IA_FIRST_FIXATION_DURATION'], errors='coerce')"
   ],
   "id": "e08348fbda6f2717",
   "outputs": [],
   "execution_count": null
  },
  {
   "metadata": {
    "ExecuteTime": {
     "end_time": "2025-06-10T15:33:50.565351Z",
     "start_time": "2025-06-10T15:33:50.294292Z"
    }
   },
   "cell_type": "code",
   "source": "lower_bound, upper_bound = get_lower_upper_bounds(ff_duration_df, 'IA_FIRST_FIXATION_DURATION')",
   "id": "e7044d4db8abf334",
   "outputs": [
    {
     "data": {
      "text/plain": [
       "<Figure size 640x480 with 1 Axes>"
      ],
      "image/png": "[encoded data removed]"
     },
     "metadata": {},
     "output_type": "display_data"
    },
    {
     "name": "stdout",
     "output_type": "stream",
     "text": [
      "lower_bound: 15.5\n",
      "upper_bound: 363.5\n"
     ]
    }
   ],
   "execution_count": 28
  },
  {
   "metadata": {
    "ExecuteTime": {
     "end_time": "2025-06-10T15:33:52.189529Z",
     "start_time": "2025-06-10T15:33:52.068740Z"
    }
   },
   "cell_type": "code",
   "source": "tmp = GAM_summary(ff_duration_df, 'IA_FIRST_FIXATION_DURATION')",
   "id": "861d790f343da592",
   "outputs": [
    {
     "name": "stdout",
     "output_type": "stream",
     "text": [
      "                                OLS Regression Results                                \n",
      "======================================================================================\n",
      "Dep. Variable:     IA_FIRST_FIXATION_DURATION   R-squared:                       0.004\n",
      "Model:                                    OLS   Adj. R-squared:                  0.004\n",
      "Method:                         Least Squares   F-statistic:                     616.9\n",
      "Date:                        Tue, 10 Jun 2025   Prob (F-statistic):               0.00\n",
      "Time:                                18:33:52   Log-Likelihood:            -2.8471e+06\n",
      "No. Observations:                      492139   AIC:                         5.694e+06\n",
      "Df Residuals:                          492135   BIC:                         5.694e+06\n",
      "Df Model:                                   3                                         \n",
      "Covariance Type:                    nonrobust                                         \n",
      "======================================================================================\n",
      "                         coef    std err          t      P>|t|      [0.025      0.975]\n",
      "--------------------------------------------------------------------------------------\n",
      "const                184.5792      0.335    550.250      0.000     183.922     185.237\n",
      "pythia_surprisal      -0.0019      0.021     -0.093      0.926      -0.043       0.039\n",
      "word_length           -0.1184      0.051     -2.300      0.021      -0.219      -0.017\n",
      "wordfreq_frequency     0.9686      0.027     35.685      0.000       0.915       1.022\n",
      "==============================================================================\n",
      "Omnibus:                   137768.156   Durbin-Watson:                   1.702\n",
      "Prob(Omnibus):                  0.000   Jarque-Bera (JB):           485114.290\n",
      "Skew:                           1.393   Prob(JB):                         0.00\n",
      "Kurtosis:                       6.987   Cond. No.                         49.3\n",
      "==============================================================================\n",
      "\n",
      "Notes:\n",
      "[1] Standard Errors assume that the covariance matrix of the errors is correctly specified.\n",
      "\n",
      "Coefficients:\n",
      "Pythia Surprisal: -0.0019, T-score: -0.0927, P-value: 0.9261\n",
      "word_length: -0.1184, T-score: -2.2996, P-value: 0.0215\n",
      "log_frequency: 0.9686, T-score: 35.6849, P-value: 0.0000\n",
      "R² score: 0.0037\n"
     ]
    }
   ],
   "execution_count": 29
  },
  {
   "metadata": {},
   "cell_type": "markdown",
   "source": "### \"SpillOver\" effect",
   "id": "a096ae34e96cd9f7"
  },
  {
   "metadata": {
    "ExecuteTime": {
     "end_time": "2025-06-10T15:34:16.515736Z",
     "start_time": "2025-06-10T15:34:04.591002Z"
    }
   },
   "cell_type": "code",
   "source": "make_spillover_column(tmp, 'IA_FIRST_FIXATION_DURATION')",
   "id": "dfb8d479560eb687",
   "outputs": [],
   "execution_count": 30
  },
  {
   "metadata": {},
   "cell_type": "markdown",
   "source": "#### Current Word",
   "id": "a8217a06e0cc2b0"
  },
  {
   "metadata": {
    "ExecuteTime": {
     "end_time": "2025-06-10T15:34:24.214755Z",
     "start_time": "2025-06-10T15:34:24.098483Z"
    }
   },
   "cell_type": "code",
   "source": "GAM_summary_current_word(tmp, 'IA_FIRST_FIXATION_DURATION')",
   "id": "ca6bb1d33e1ef215",
   "outputs": [
    {
     "name": "stdout",
     "output_type": "stream",
     "text": [
      "                                OLS Regression Results                                \n",
      "======================================================================================\n",
      "Dep. Variable:     IA_FIRST_FIXATION_DURATION   R-squared:                       0.004\n",
      "Model:                                    OLS   Adj. R-squared:                  0.004\n",
      "Method:                         Least Squares   F-statistic:                     616.9\n",
      "Date:                        Tue, 10 Jun 2025   Prob (F-statistic):               0.00\n",
      "Time:                                18:34:24   Log-Likelihood:            -2.8471e+06\n",
      "No. Observations:                      492139   AIC:                         5.694e+06\n",
      "Df Residuals:                          492135   BIC:                         5.694e+06\n",
      "Df Model:                                   3                                         \n",
      "Covariance Type:                    nonrobust                                         \n",
      "===========================================================================================\n",
      "                              coef    std err          t      P>|t|      [0.025      0.975]\n",
      "-------------------------------------------------------------------------------------------\n",
      "const                     184.5510      0.316    584.627      0.000     183.932     185.170\n",
      "pythia_word_probability     0.1160      0.524      0.221      0.825      -0.911       1.143\n",
      "word_length                -0.1182      0.051     -2.297      0.022      -0.219      -0.017\n",
      "wordfreq_frequency          0.9686      0.027     35.720      0.000       0.915       1.022\n",
      "==============================================================================\n",
      "Omnibus:                   137768.460   Durbin-Watson:                   1.702\n",
      "Prob(Omnibus):                  0.000   Jarque-Bera (JB):           485115.731\n",
      "Skew:                           1.393   Prob(JB):                         0.00\n",
      "Kurtosis:                       6.987   Cond. No.                         70.2\n",
      "==============================================================================\n",
      "\n",
      "Notes:\n",
      "[1] Standard Errors assume that the covariance matrix of the errors is correctly specified.\n",
      "\n",
      "Coefficients:\n",
      "Pythia word probability: 0.1160, T-score: 0.2214, P-value: 0.8248\n",
      "word_length: -0.1182, T-score: -2.2967, P-value: 0.0216\n",
      "log_frequency: 0.9686, T-score: 35.7203, P-value: 0.0000\n",
      "R² score: 0.0037\n"
     ]
    }
   ],
   "execution_count": 31
  },
  {
   "metadata": {},
   "cell_type": "markdown",
   "source": "#### Next Word",
   "id": "fa765a9fa4f51e7f"
  },
  {
   "metadata": {
    "ExecuteTime": {
     "end_time": "2025-06-10T15:34:32.703808Z",
     "start_time": "2025-06-10T15:34:32.623058Z"
    }
   },
   "cell_type": "code",
   "source": "GAM_summary_spillover(tmp)",
   "id": "88235106c14d6b50",
   "outputs": [
    {
     "name": "stdout",
     "output_type": "stream",
     "text": [
      "                            OLS Regression Results                            \n",
      "==============================================================================\n",
      "Dep. Variable:           spillover_rt   R-squared:                       0.002\n",
      "Model:                            OLS   Adj. R-squared:                  0.002\n",
      "Method:                 Least Squares   F-statistic:                     397.1\n",
      "Date:                Tue, 10 Jun 2025   Prob (F-statistic):          1.10e-257\n",
      "Time:                        18:34:32   Log-Likelihood:            -2.7910e+06\n",
      "No. Observations:              482061   AIC:                         5.582e+06\n",
      "Df Residuals:                  482057   BIC:                         5.582e+06\n",
      "Df Model:                           3                                         \n",
      "Covariance Type:            nonrobust                                         \n",
      "===========================================================================================\n",
      "                              coef    std err          t      P>|t|      [0.025      0.975]\n",
      "-------------------------------------------------------------------------------------------\n",
      "const                     188.3665      0.320    587.795      0.000     187.738     188.995\n",
      "pythia_word_probability    -8.5773      0.537    -15.983      0.000      -9.629      -7.525\n",
      "word_length                 0.7067      0.052     13.525      0.000       0.604       0.809\n",
      "wordfreq_frequency          0.3678      0.028     13.346      0.000       0.314       0.422\n",
      "==============================================================================\n",
      "Omnibus:                   134414.800   Durbin-Watson:                   1.701\n",
      "Prob(Omnibus):                  0.000   Jarque-Bera (JB):           465797.313\n",
      "Skew:                           1.393   Prob(JB):                         0.00\n",
      "Kurtosis:                       6.928   Cond. No.                         70.9\n",
      "==============================================================================\n",
      "\n",
      "Notes:\n",
      "[1] Standard Errors assume that the covariance matrix of the errors is correctly specified.\n",
      "\n",
      "Coefficients:\n",
      "Pythia word probability: -8.5773, T-score: -15.9831, P-value: 0.0000\n",
      "word_length: 0.7067, T-score: 13.5254, P-value: 0.0000\n",
      "log_frequency: 0.3678, T-score: 13.3459, P-value: 0.0000\n",
      "R² score: 0.0025\n"
     ]
    }
   ],
   "execution_count": 32
  },
  {
   "metadata": {},
   "cell_type": "markdown",
   "source": "## Regression Path Duration (IA_REGRESSION_PATH_DURATION)",
   "id": "4ce866d94a9112c6"
  },
  {
   "metadata": {},
   "cell_type": "code",
   "source": [
    "RPD_duration_df = df[df['IA_FIRST_FIX_PROGRESSIVE'] == '1']\n",
    "RPD_duration_df['IA_REGRESSION_PATH_DURATION'] = pd.to_numeric(RPD_duration_df['IA_REGRESSION_PATH_DURATION'], errors='coerce')"
   ],
   "id": "b1c63d88dd30ac71",
   "outputs": [],
   "execution_count": null
  },
  {
   "metadata": {},
   "cell_type": "code",
   "source": "lower_bound, upper_bound = get_lower_upper_bounds(RPD_duration_df, 'IA_REGRESSION_PATH_DURATION')",
   "id": "52a4d92262e82bc4",
   "outputs": [],
   "execution_count": null
  },
  {
   "metadata": {},
   "cell_type": "code",
   "source": "tmp = GAM_summary(RPD_duration_df, 'IA_REGRESSION_PATH_DURATION')",
   "id": "f608b108499f7abf",
   "outputs": [],
   "execution_count": null
  },
  {
   "metadata": {},
   "cell_type": "markdown",
   "source": "### \"SpillOver\" effect",
   "id": "954ac861b38ad4cd"
  },
  {
   "metadata": {},
   "cell_type": "code",
   "source": "make_spillover_column(tmp, 'IA_REGRESSION_PATH_DURATION')",
   "id": "559bf61a95a47b5d",
   "outputs": [],
   "execution_count": null
  },
  {
   "metadata": {},
   "cell_type": "markdown",
   "source": "#### Current Word",
   "id": "7523b8f959b9372e"
  },
  {
   "metadata": {},
   "cell_type": "code",
   "source": "GAM_summary_current_word(tmp, 'IA_REGRESSION_PATH_DURATION')",
   "id": "87125fa858313a6f",
   "outputs": [],
   "execution_count": null
  },
  {
   "metadata": {},
   "cell_type": "markdown",
   "source": "#### Next Word",
   "id": "e92081f1617c1cab"
  },
  {
   "metadata": {},
   "cell_type": "code",
   "source": "GAM_summary_spillover(tmp)",
   "id": "d7c1d37351b9d642",
   "outputs": [],
   "execution_count": null
  }
 ],
 "metadata": {
  "kernelspec": {
   "display_name": "Python 3",
   "language": "python",
   "name": "python3"
  },
  "language_info": {
   "codemirror_mode": {
    "name": "ipython",
    "version": 2
   },
   "file_extension": ".py",
   "mimetype": "text/x-python",
   "name": "python",
   "nbconvert_exporter": "python",
   "pygments_lexer": "ipython2",
   "version": "2.7.6"
  }
 },
 "nbformat": 4,
 "nbformat_minor": 5
}
